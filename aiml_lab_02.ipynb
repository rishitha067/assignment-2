{
  "nbformat": 4,
  "nbformat_minor": 0,
  "metadata": {
    "colab": {
      "provenance": [],
      "toc_visible": true
    },
    "kernelspec": {
      "name": "python3",
      "display_name": "Python 3"
    },
    "language_info": {
      "name": "python"
    }
  },
  "cells": [
    {
      "cell_type": "code",
      "source": [
        "gender=[1,1,1,1,1,1,1,1,1,2,2,2,2,2,2]\n",
        "age=   [1,1,1,1,1,1,1,1,2,2,2,2,2,2,2]\n",
        "head=  [4512,3738,4261,3777,4177,3585,3785,3559,3613,3982,3443,3993,3640,4208,3832]\n",
        "weight=[1530,1297,1335,1282,1590,1300,1400,1255,1355,1375,1340,1380,1355,1522,1208]"
      ],
      "metadata": {
        "id": "aLuWKzDBQ-Tq"
      },
      "execution_count": 2,
      "outputs": []
    },
    {
      "cell_type": "code",
      "source": [
        "import pandas as pd\n",
        "\n",
        "# Read data from CSV file\n",
        "df = pd.read_csv('/content/aiml lab2.csv')  # Replace 'your_file_path.csv' with the path to your CSV file\n",
        "\n",
        "# Function to normalize using min-max scaling\n",
        "def min_max_scaling(col):\n",
        "    return (col - col.min()) / (col.max() - col.min())\n",
        "\n",
        "# Apply min-max scaling to selected columns\n",
        "columns_to_scale = ['Head Size(cm^3)', 'Brain Weight(grams)']\n",
        "df_normalized = df.copy()\n",
        "\n",
        "# Handle missing values by dropping rows with NaN\n",
        "df_normalized.dropna(subset=columns_to_scale, inplace=True)\n",
        "\n",
        "# Apply min-max scaling to selected columns\n",
        "df_normalized[columns_to_scale] = df_normalized[columns_to_scale].apply(min_max_scaling, axis=0)\n",
        "\n",
        "print(df_normalized)"
      ],
      "metadata": {
        "colab": {
          "base_uri": "https://localhost:8080/"
        },
        "id": "d20bOcBARIaH",
        "outputId": "48cbd2be-2ead-487f-f4f3-1ef641a056c1"
      },
      "execution_count": 4,
      "outputs": [
        {
          "output_type": "stream",
          "name": "stdout",
          "text": [
            "    Gender  Age Range  Head Size(cm^3)  Brain Weight(grams)\n",
            "0        1          1         1.000000             0.842932\n",
            "1        1          1         0.275959             0.232984\n",
            "2        1          1         0.765201             0.332461\n",
            "3        1          1         0.312442             0.193717\n",
            "4        1          1         0.686623             1.000000\n",
            "5        1          1         0.132834             0.240838\n",
            "6        1          1         0.319925             0.502618\n",
            "7        1          1         0.108513             0.123037\n",
            "8        1          2         0.159027             0.384817\n",
            "9        2          2         0.504210             0.437173\n",
            "10       2          2         0.000000             0.345550\n",
            "11       2          2         0.514500             0.450262\n",
            "12       2          2         0.184284             0.384817\n",
            "13       2          2         0.715622             0.821990\n",
            "14       2          2         0.363891             0.000000\n"
          ]
        }
      ]
    },
    {
      "cell_type": "code",
      "source": [
        "import pandas as pd\n",
        "\n",
        "# Read the data\n",
        "df = pd.read_csv('/content/housing.csv')  # Replace 'your_file_path.csv' with the path to your CSV file\n",
        "\n",
        "# Describe the data\n",
        "description = df.describe()\n",
        "print(description)\n",
        "\n",
        "\n"
      ],
      "metadata": {
        "colab": {
          "base_uri": "https://localhost:8080/"
        },
        "id": "R8dx5vGEVJjj",
        "outputId": "b1a6d82b-225f-4fd4-ea85-4e9ce6a8ff0e"
      },
      "execution_count": 7,
      "outputs": [
        {
          "output_type": "stream",
          "name": "stdout",
          "text": [
            "          longitude      latitude  housing_median_age   total_rooms  \\\n",
            "count  20640.000000  20640.000000        20640.000000  20640.000000   \n",
            "mean    -119.569704     35.631861           28.639486   2635.763081   \n",
            "std        2.003532      2.135952           12.585558   2181.615252   \n",
            "min     -124.350000     32.540000            1.000000      2.000000   \n",
            "25%     -121.800000     33.930000           18.000000   1447.750000   \n",
            "50%     -118.490000     34.260000           29.000000   2127.000000   \n",
            "75%     -118.010000     37.710000           37.000000   3148.000000   \n",
            "max     -114.310000     41.950000           52.000000  39320.000000   \n",
            "\n",
            "       total_bedrooms    population    households  median_income  \\\n",
            "count    20433.000000  20640.000000  20640.000000   20640.000000   \n",
            "mean       537.870553   1425.476744    499.539680       3.870671   \n",
            "std        421.385070   1132.462122    382.329753       1.899822   \n",
            "min          1.000000      3.000000      1.000000       0.499900   \n",
            "25%        296.000000    787.000000    280.000000       2.563400   \n",
            "50%        435.000000   1166.000000    409.000000       3.534800   \n",
            "75%        647.000000   1725.000000    605.000000       4.743250   \n",
            "max       6445.000000  35682.000000   6082.000000      15.000100   \n",
            "\n",
            "       median_house_value  \n",
            "count        20640.000000  \n",
            "mean        206855.816909  \n",
            "std         115395.615874  \n",
            "min          14999.000000  \n",
            "25%         119600.000000  \n",
            "50%         179700.000000  \n",
            "75%         264725.000000  \n",
            "max         500001.000000  \n"
          ]
        }
      ]
    },
    {
      "cell_type": "code",
      "source": [
        "# Find data type of each column\n",
        "data_types = df.dtypes\n",
        "print(\"Data types of each column:\")\n",
        "print(data_types)\n",
        "\n",
        "# Find shape of the DataFrame\n",
        "shape = df.shape\n",
        "print(\"Shape of the DataFrame:\", shape)\n",
        "\n"
      ],
      "metadata": {
        "colab": {
          "base_uri": "https://localhost:8080/"
        },
        "id": "M_c3BLLXWFR3",
        "outputId": "e7e8accc-b52e-4bdd-df51-e44bdad2bc1a"
      },
      "execution_count": 8,
      "outputs": [
        {
          "output_type": "stream",
          "name": "stdout",
          "text": [
            "Data types of each column:\n",
            "longitude             float64\n",
            "latitude              float64\n",
            "housing_median_age    float64\n",
            "total_rooms           float64\n",
            "total_bedrooms        float64\n",
            "population            float64\n",
            "households            float64\n",
            "median_income         float64\n",
            "median_house_value    float64\n",
            "ocean_proximity        object\n",
            "dtype: object\n",
            "Shape of the DataFrame: (20640, 10)\n"
          ]
        }
      ]
    },
    {
      "cell_type": "code",
      "source": [
        "# Find null values\n",
        "null_values = df.isnull().sum()\n",
        "print(\"Null values:\")\n",
        "print(null_values)\n",
        "\n",
        "# Fill null values with '0' or mean of that column\n",
        "# Let's fill null values with mean of the respective columns\n",
        "df_filled = df.fillna(df.mean())\n",
        "\n",
        "# You can also fill null values with '0' by using:\n",
        "# df_filled = df.fillna(0)\n",
        "\n",
        "print(\"DataFrame after filling null values:\")\n",
        "print(df_filled)"
      ],
      "metadata": {
        "colab": {
          "base_uri": "https://localhost:8080/"
        },
        "id": "3ZYoG2cKWMaV",
        "outputId": "29262ccb-4d4a-40f2-ef1c-af94f7d756c3"
      },
      "execution_count": 10,
      "outputs": [
        {
          "output_type": "stream",
          "name": "stdout",
          "text": [
            "Null values:\n",
            "longitude               0\n",
            "latitude                0\n",
            "housing_median_age      0\n",
            "total_rooms             0\n",
            "total_bedrooms        207\n",
            "population              0\n",
            "households              0\n",
            "median_income           0\n",
            "median_house_value      0\n",
            "ocean_proximity         0\n",
            "dtype: int64\n",
            "DataFrame after filling null values:\n",
            "       longitude  latitude  housing_median_age  total_rooms  total_bedrooms  \\\n",
            "0        -122.23     37.88                41.0        880.0           129.0   \n",
            "1        -122.22     37.86                21.0       7099.0          1106.0   \n",
            "2        -122.24     37.85                52.0       1467.0           190.0   \n",
            "3        -122.25     37.85                52.0       1274.0           235.0   \n",
            "4        -122.25     37.85                52.0       1627.0           280.0   \n",
            "...          ...       ...                 ...          ...             ...   \n",
            "20635    -121.09     39.48                25.0       1665.0           374.0   \n",
            "20636    -121.21     39.49                18.0        697.0           150.0   \n",
            "20637    -121.22     39.43                17.0       2254.0           485.0   \n",
            "20638    -121.32     39.43                18.0       1860.0           409.0   \n",
            "20639    -121.24     39.37                16.0       2785.0           616.0   \n",
            "\n",
            "       population  households  median_income  median_house_value  \\\n",
            "0           322.0       126.0         8.3252            452600.0   \n",
            "1          2401.0      1138.0         8.3014            358500.0   \n",
            "2           496.0       177.0         7.2574            352100.0   \n",
            "3           558.0       219.0         5.6431            341300.0   \n",
            "4           565.0       259.0         3.8462            342200.0   \n",
            "...           ...         ...            ...                 ...   \n",
            "20635       845.0       330.0         1.5603             78100.0   \n",
            "20636       356.0       114.0         2.5568             77100.0   \n",
            "20637      1007.0       433.0         1.7000             92300.0   \n",
            "20638       741.0       349.0         1.8672             84700.0   \n",
            "20639      1387.0       530.0         2.3886             89400.0   \n",
            "\n",
            "      ocean_proximity  \n",
            "0            NEAR BAY  \n",
            "1            NEAR BAY  \n",
            "2            NEAR BAY  \n",
            "3            NEAR BAY  \n",
            "4            NEAR BAY  \n",
            "...               ...  \n",
            "20635          INLAND  \n",
            "20636          INLAND  \n",
            "20637          INLAND  \n",
            "20638          INLAND  \n",
            "20639          INLAND  \n",
            "\n",
            "[20640 rows x 10 columns]\n"
          ]
        },
        {
          "output_type": "stream",
          "name": "stderr",
          "text": [
            "<ipython-input-10-74fcc467ba71>:8: FutureWarning: The default value of numeric_only in DataFrame.mean is deprecated. In a future version, it will default to False. In addition, specifying 'numeric_only=None' is deprecated. Select only valid columns or specify the value of numeric_only to silence this warning.\n",
            "  df_filled = df.fillna(df.mean())\n"
          ]
        }
      ]
    },
    {
      "cell_type": "code",
      "source": [
        "import pandas as pd\n",
        "\n",
        "df = pd.read_csv('/content/housing1.csv')\n",
        "\n",
        "print(df.head())\n",
        "\n",
        "features = df.drop(columns=['median_house_value'])\n",
        "\n",
        "target = df['median_house_value']\n",
        "\n",
        "print(\"\\nFeatures:\")\n",
        "print(features.head())\n",
        "print(\"\\nTarget:\")\n",
        "print(target.head())"
      ],
      "metadata": {
        "colab": {
          "base_uri": "https://localhost:8080/"
        },
        "id": "rWS2KX5_bRU2",
        "outputId": "cb268d5e-6751-4628-d808-ca84cf12da28"
      },
      "execution_count": 12,
      "outputs": [
        {
          "output_type": "stream",
          "name": "stdout",
          "text": [
            "   longitude  latitude  housing_median_age  total_rooms  total_bedrooms  \\\n",
            "0    -122.23     37.88                41.0        880.0           129.0   \n",
            "1    -122.22     37.86                21.0       7099.0          1106.0   \n",
            "2    -122.24     37.85                52.0       1467.0           190.0   \n",
            "3    -122.25     37.85                52.0       1274.0           235.0   \n",
            "4    -122.25     37.85                52.0       1627.0           280.0   \n",
            "\n",
            "   population  households  median_income  median_house_value ocean_proximity  \n",
            "0       322.0       126.0         8.3252            452600.0        NEAR BAY  \n",
            "1      2401.0      1138.0         8.3014            358500.0        NEAR BAY  \n",
            "2       496.0       177.0         7.2574            352100.0        NEAR BAY  \n",
            "3       558.0       219.0         5.6431            341300.0        NEAR BAY  \n",
            "4       565.0       259.0         3.8462            342200.0        NEAR BAY  \n",
            "\n",
            "Features:\n",
            "   longitude  latitude  housing_median_age  total_rooms  total_bedrooms  \\\n",
            "0    -122.23     37.88                41.0        880.0           129.0   \n",
            "1    -122.22     37.86                21.0       7099.0          1106.0   \n",
            "2    -122.24     37.85                52.0       1467.0           190.0   \n",
            "3    -122.25     37.85                52.0       1274.0           235.0   \n",
            "4    -122.25     37.85                52.0       1627.0           280.0   \n",
            "\n",
            "   population  households  median_income ocean_proximity  \n",
            "0       322.0       126.0         8.3252        NEAR BAY  \n",
            "1      2401.0      1138.0         8.3014        NEAR BAY  \n",
            "2       496.0       177.0         7.2574        NEAR BAY  \n",
            "3       558.0       219.0         5.6431        NEAR BAY  \n",
            "4       565.0       259.0         3.8462        NEAR BAY  \n",
            "\n",
            "Target:\n",
            "0    452600.0\n",
            "1    358500.0\n",
            "2    352100.0\n",
            "3    341300.0\n",
            "4    342200.0\n",
            "Name: median_house_value, dtype: float64\n"
          ]
        }
      ]
    },
    {
      "cell_type": "code",
      "source": [
        "features_encoded = pd.get_dummies(features, columns=['ocean_proximity'], drop_first=True)\n",
        "\n",
        "scaler = MinMaxScaler()\n",
        "\n",
        "scaled_features = scaler.fit_transform(features_encoded)\n",
        "\n",
        "df_scaled = pd.DataFrame(scaled_features, columns=features_encoded.columns)\n",
        "\n",
        "print(\"\\nNormalized Data:\")\n",
        "print(df_scaled.head())"
      ],
      "metadata": {
        "colab": {
          "base_uri": "https://localhost:8080/"
        },
        "id": "EDD1mYmibtMY",
        "outputId": "f1b855df-0cf7-4f96-ac44-563770457230"
      },
      "execution_count": 13,
      "outputs": [
        {
          "output_type": "stream",
          "name": "stdout",
          "text": [
            "\n",
            "Normalized Data:\n",
            "   longitude  latitude  housing_median_age  total_rooms  total_bedrooms  \\\n",
            "0   0.211155  0.567481            0.784314     0.022331        0.019863   \n",
            "1   0.212151  0.565356            0.392157     0.180503        0.171477   \n",
            "2   0.210159  0.564293            1.000000     0.037260        0.029330   \n",
            "3   0.209163  0.564293            1.000000     0.032352        0.036313   \n",
            "4   0.209163  0.564293            1.000000     0.041330        0.043296   \n",
            "\n",
            "   population  households  median_income  ocean_proximity_INLAND  \\\n",
            "0    0.008941    0.020556       0.539668                     0.0   \n",
            "1    0.067210    0.186976       0.538027                     0.0   \n",
            "2    0.013818    0.028943       0.466028                     0.0   \n",
            "3    0.015555    0.035849       0.354699                     0.0   \n",
            "4    0.015752    0.042427       0.230776                     0.0   \n",
            "\n",
            "   ocean_proximity_ISLAND  ocean_proximity_NEAR BAY  \\\n",
            "0                     0.0                       1.0   \n",
            "1                     0.0                       1.0   \n",
            "2                     0.0                       1.0   \n",
            "3                     0.0                       1.0   \n",
            "4                     0.0                       1.0   \n",
            "\n",
            "   ocean_proximity_NEAR OCEAN  \n",
            "0                         0.0  \n",
            "1                         0.0  \n",
            "2                         0.0  \n",
            "3                         0.0  \n",
            "4                         0.0  \n"
          ]
        }
      ]
    },
    {
      "cell_type": "code",
      "source": [
        "from sklearn.model_selection import train_test_split\n",
        "\n",
        "X_train, X_test, y_train, y_test = train_test_split(df_scaled, target, test_size=0.2, random_state=42)\n",
        "\n",
        "print(\"\\nTrain data shape:\", X_train.shape, y_train.shape)\n",
        "print(\"Test data shape:\", X_test.shape, y_test.shape)"
      ],
      "metadata": {
        "colab": {
          "base_uri": "https://localhost:8080/"
        },
        "id": "MGWhRN9ubzUY",
        "outputId": "3c5b0444-3dba-4a93-9a48-66ceae25b9b8"
      },
      "execution_count": 14,
      "outputs": [
        {
          "output_type": "stream",
          "name": "stdout",
          "text": [
            "\n",
            "Train data shape: (16512, 12) (16512,)\n",
            "Test data shape: (4128, 12) (4128,)\n"
          ]
        }
      ]
    }
  ]
}